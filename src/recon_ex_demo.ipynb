{
 "cells": [
  {
   "cell_type": "markdown",
   "metadata": {},
   "source": [
    "# Compressive Second Harmonic Generation Imaging\n",
    "\n",
    "The following is a walk through the reconstruction procedure for compressive second harmonic generation imaging - A technique for 3d tissue imaging with far fewer measurements, based on computational reconstruction.\n",
    "\n",
    "This file demonstrates the use on real experimenatal data from a custom widefield SHG microscope designed to take compressive measurements."
   ]
  },
  {
   "cell_type": "markdown",
   "metadata": {},
   "source": [
    "## Optical Forward Model :\n",
    "\n",
    "An collimated beam having field of wavelength $\\lambda_1 = $1000 nm (the fundamental) is incident on a chicken tendon tissue sample of thickness $L_z$ = 25 nm. With reference to the field at the starting point of the tissue the fundamental field at depth $z$ is given as:\n",
    "$$E_i(z) = E_{io}e^{-j\\frac{2\\pi n_1}{\\lambda_1} z}$$\n",
    "where $n_1 = \\langle n(x,y,z;\\lambda_1)\\rangle$ is the effective refractive index of the tissue material at wavelength $\\lambda_1$.\n",
    "\n",
    "This field interacts nonlinearly with the tissue, to give the second harmonic field, that is phase matched with the fundamental:\n",
    "$$E_s(z) = E_{io} s(x,y,z) e^{-j\\frac{2\\pi n_2}{\\lambda_2} z}$$,\n",
    "\n",
    "where $n_2$ is the effective refractive index of the medium at wavelength $\\lambda_2 = \\lambda_1/2$."
   ]
  },
  {
   "cell_type": "markdown",
   "metadata": {},
   "source": [
    "This field now propagates a distance $L_z - z$ by angular spectrum propagation to give the second harmonic field at the end of the tissue:\n",
    "$$E_s(z \\rightarrow L_z) = E_{io} s(x,y,z) e^{-j\\frac{2\\pi n_2}{\\lambda_2} z} * h(x,y,z)$$\n",
    "where h(x,y,z) is a filter given by fourier optics/angular spectrum propagation:\n",
    "$\\hat{h}(\\nu_x, \\nu_y, z) = \\exp\\left({ -j2\\pi (L_z-z) \\sqrt{\\frac{n_2^2}{\\lambda_2^2} - \\nu_x^2 - \\nu_y^2)}}\\right)$\n",
    "\n",
    "The sum of all such SHG components originating at different $z$ depths give the total SHG field:\n",
    "$$E_s(L_z) = \\sum_z E_{io} s(x,y,z) e^{-j\\frac{2\\pi n_2}{\\lambda_2} z} * h(x,y,z)$$"
   ]
  },
  {
   "cell_type": "markdown",
   "metadata": {},
   "source": [
    "This can be seen as a linear transfer function from the 3D distribution $s$ to the final electric fiel $E_s$.\n",
    "If $s$, $b_s$ are the vectorized versions of the 3d distribution $s$ and the field $E_s$ respectively, and if the linear transfer function is given by $H$, then the above can be rewritten as:\n",
    "$$b_s = Hs$$\n",
    "This field is now passed through a 4f system, with a $\\pm 1$ binary phase mask at the fourier plane. \n",
    "$$b_d = F(M(F(b_s)))$$\n",
    "Here, $F$ represents the 2d fourier operator, and $M$ reperesents the random binary phase mask.\n",
    "Hence, the net transfer function is written as\n",
    "$$b_d = FMFHs = As$$.\n",
    "This field is now detected onto the camera:\n",
    "$$I_d = |b_d|^2 = |As|^2$$"
   ]
  },
  {
   "cell_type": "markdown",
   "metadata": {},
   "source": [
    "By changing the phase mask, a different phase modulation can be achieved, and as such several measurements $n_{meas}$ can be taken. \n",
    "We solve this problem in two steps:\n",
    "- Wirtinger flow based phase retrieval in order to get the phase of $y_s$ and $y_d$. This converts the nonlinear problem into a linear problem.\n",
    "- Regularized iterative least squares to solve the linear problem to give a 3d map $s(x,y,z)$.\n",
    "\n",
    "In our scheme, the coded apertures serve two purposes: \n",
    "- Enable phase retrieval via wirtinger flow [1] based on $n_{meas}$ random intensity measurements.\n",
    "- Provide decorrelation in the columns of the linear operator $A$ to improve the 3d reconstruction based on sparsity promoting regularization.\n"
   ]
  },
  {
   "cell_type": "markdown",
   "metadata": {},
   "source": [
    "## Compressive SHG 3d reconstruction"
   ]
  },
  {
   "cell_type": "markdown",
   "metadata": {},
   "source": [
    "![](tissue3d.png)"
   ]
  },
  {
   "cell_type": "markdown",
   "metadata": {},
   "source": [
    "## Partial Holographic Reconstruction"
   ]
  },
  {
   "cell_type": "markdown",
   "metadata": {},
   "source": [
    "![](tissue3d_hol.png)"
   ]
  },
  {
   "cell_type": "markdown",
   "metadata": {},
   "source": []
  }
 ],
 "metadata": {
  "kernelspec": {
   "display_name": "may",
   "language": "python",
   "name": "may"
  },
  "language_info": {
   "codemirror_mode": {
    "name": "ipython",
    "version": 3
   },
   "file_extension": ".py",
   "mimetype": "text/x-python",
   "name": "python",
   "nbconvert_exporter": "python",
   "pygments_lexer": "ipython3",
   "version": "3.7.4"
  }
 },
 "nbformat": 4,
 "nbformat_minor": 2
}
